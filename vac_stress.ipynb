{
 "cells": [
  {
   "cell_type": "markdown",
   "id": "fe2e5f1f",
   "metadata": {},
   "source": [
    "# 데이터 로드"
   ]
  },
  {
   "cell_type": "code",
   "execution_count": 4,
   "id": "87b8dd85",
   "metadata": {},
   "outputs": [
    {
     "name": "stdout",
     "output_type": "stream",
     "text": [
      "(3000, 18)\n",
      "(3000, 17)\n"
     ]
    }
   ],
   "source": [
    "import pandas as pd\n",
    "import numpy as np\n",
    "import matplotlib.pyplot as plt\n",
    "\n",
    "\n",
    "plt.rc('font', family='Malgun Gothic') \n",
    "plt.rcParams['axes.unicode_minus'] = False\n",
    "\n",
    "df = pd.read_csv('open/train.csv')\n",
    "df2 = df.copy()\n",
    "test_df = pd.read_csv('open/test.csv')\n",
    "\n",
    "print(df.shape)\n",
    "print(test_df.shape)"
   ]
  },
  {
   "cell_type": "markdown",
   "id": "b7ec3c01",
   "metadata": {},
   "source": [
    "# 전처리"
   ]
  },
  {
   "cell_type": "code",
   "execution_count": 5,
   "id": "3b5c0ec6",
   "metadata": {},
   "outputs": [],
   "source": [
    "df['mean_working'] = df['mean_working'].fillna(0)\n",
    "\n",
    "\n",
    "df = df.fillna('Unknown')\n",
    "\n",
    "d_gender = {\n",
    "    \"F\" : 0,\n",
    "    \"M\" : 1\n",
    "}\n",
    "\n",
    "d_activity = {\n",
    "    \"light\" : 0,\n",
    "    \"moderate\" : 1,\n",
    "    \"intense\" : 2\n",
    "}\n",
    "\n",
    "d_smoke_status = {\n",
    "    \"non-smoker\" : 0,\n",
    "    \"ex-smoker\" : 1,\n",
    "    \"current-smoker\" : 2\n",
    "}\n",
    "\n",
    "d_edu_level = {\n",
    "    'high school diploma' : 1,\n",
    "    'bachelors degree' : 2,\n",
    "    'graduate degree' : 3,\n",
    "    'Unknown' : 0\n",
    "}\n",
    "\n",
    "\n",
    "d_sleep_pattern = {\n",
    "    'sleep difficulty' : 0,\n",
    "    'normal' : 1,\n",
    "    'oversleeping' : 2\n",
    "}"
   ]
  },
  {
   "cell_type": "code",
   "execution_count": 6,
   "id": "60356370",
   "metadata": {},
   "outputs": [],
   "source": [
    "df['gender'] = df['gender'].map(d_gender)\n",
    "df['activity'] = df['activity'].map(d_activity)\n",
    "df['smoke_status'] = df['smoke_status'].map(d_smoke_status)\n",
    "df['edu_level'] = df['edu_level'].map(d_edu_level)\n",
    "df['sleep_pattern'] = df['sleep_pattern'].map(d_sleep_pattern)\n",
    "\n",
    "mh_dummies    = pd.get_dummies(df['medical_history'], prefix=\"mh\", dtype='int')\n",
    "fmh_dummies   = pd.get_dummies(df['family_medical_history'], prefix=\"fmh\", dtype='int')\n",
    "smo_dummies   = pd.get_dummies(df['smoke_status'], prefix=\"smo\", dtype='int')\n",
    "\n",
    "# 2. 원본 df에 concat\n",
    "df = pd.concat([df, mh_dummies, fmh_dummies,smo_dummies], axis=1)\n",
    "\n",
    "# 3. 기존 원본 컬럼 삭제\n",
    "df = df.drop([\"ID\",'medical_history', 'family_medical_history','smoke_status'], axis=1)\n",
    "\n",
    "df.to_csv('train_preprocessed.csv', index=False)"
   ]
  },
  {
   "cell_type": "code",
   "execution_count": 7,
   "id": "adb4fbb4",
   "metadata": {},
   "outputs": [],
   "source": [
    "\n",
    "test_df['mean_working'] = test_df['mean_working'].fillna(0)\n",
    "\n",
    "test_df = test_df.fillna('Unknown')\n",
    "\n",
    "\n",
    "test_df['gender'] = test_df['gender'].map(d_gender)\n",
    "test_df['activity'] = test_df['activity'].map(d_activity)\n",
    "test_df['smoke_status'] = test_df['smoke_status'].map(d_smoke_status)\n",
    "test_df['edu_level'] = test_df['edu_level'].map(d_edu_level)\n",
    "test_df['sleep_pattern'] = test_df['sleep_pattern'].map(d_sleep_pattern)\n",
    "\n",
    "mh_dummies    = pd.get_dummies(test_df['medical_history'], prefix=\"mh\", dtype='int')\n",
    "fmh_dummies   = pd.get_dummies(test_df['family_medical_history'], prefix=\"fmh\", dtype='int')\n",
    "smo_dummies   = pd.get_dummies(test_df['smoke_status'], prefix=\"smo\", dtype='int')\n",
    "\n",
    "# 2. 원본 test_df에 concat\n",
    "test_df = pd.concat([test_df, mh_dummies, fmh_dummies,smo_dummies], axis=1)\n",
    "\n",
    "# 3. 기존 원본 컬럼 삭제\n",
    "test_df = test_df.drop([\"ID\",'medical_history', 'family_medical_history','smoke_status'], axis=1)\n",
    "\n",
    "test_df.to_csv('test_preprocessed.csv', index=False)"
   ]
  },
  {
   "cell_type": "markdown",
   "id": "76150b26",
   "metadata": {},
   "source": [
    "# 학습"
   ]
  },
  {
   "cell_type": "code",
   "execution_count": 8,
   "id": "fabd3a0b",
   "metadata": {},
   "outputs": [
    {
     "name": "stdout",
     "output_type": "stream",
     "text": [
      "(3000, 25) (3000, 24)\n",
      "(3000, 26) (3000, 25)\n"
     ]
    }
   ],
   "source": [
    "from sklearn.model_selection import KFold\n",
    "from sklearn.metrics import mean_absolute_error\n",
    "from hyperopt import fmin, tpe, hp, Trials, STATUS_OK\n",
    "from sklearn.svm import SVR\n",
    "from sklearn.preprocessing import QuantileTransformer\n",
    "from sklearn.compose import TransformedTargetRegressor\n",
    "from sklearn.pipeline import make_pipeline\n",
    "from sklearn.preprocessing import RobustScaler\n",
    "\n",
    "# 전처리 데이터 로드\n",
    "df = pd.read_csv('train_preprocessed.csv')\n",
    "test_df = pd.read_csv('test_preprocessed.csv')  \n",
    "print(df.shape, test_df.shape)\n",
    "\n",
    "# BMI 피처 추가\n",
    "df['bmi'] = (df['weight'] / ((df['height'] / 100.0) ** 2)).round(2)\n",
    "test_df['bmi'] = (test_df['weight'] / ((test_df['height'] / 100.0) ** 2)).round(2)\n",
    "\n",
    "print(df.shape, test_df.shape)  \n",
    "\n",
    "X = df.drop(columns=['stress_score']) \n",
    "y = df['stress_score']"
   ]
  },
  {
   "cell_type": "markdown",
   "id": "eceb3037",
   "metadata": {},
   "source": [
    "+ SVR 하이퍼 파라미터 튜닝"
   ]
  },
  {
   "cell_type": "code",
   "execution_count": 9,
   "id": "c79c7f1b",
   "metadata": {},
   "outputs": [],
   "source": [
    "# def tune_svr_rbf_mae_cv(X, y, max_evals=60, n_splits=5, random_state=42): \n",
    "#     X_arr = X.values if hasattr(X, \"values\") else np.asarray(X)\n",
    "#     y_arr = y.values if hasattr(y, \"values\") else np.asarray(y)\n",
    "\n",
    "#     def objective(params):\n",
    "       \n",
    "#         kf = KFold(n_splits=n_splits, shuffle=True, random_state=random_state)\n",
    "#         fold_maes = []\n",
    "\n",
    "#         for tr_idx, val_idx in kf.split(X_arr):\n",
    "#             X_tr, X_val = X_arr[tr_idx], X_arr[val_idx]\n",
    "#             y_tr, y_val = y_arr[tr_idx], y_arr[val_idx]\n",
    "\n",
    "#             # 누수 방지 fold 안 스케일링\n",
    "\n",
    "#             pipe = make_pipeline(\n",
    "#                 RobustScaler(),\n",
    "#                 TransformedTargetRegressor(\n",
    "#                     regressor=SVR(\n",
    "#                         kernel=\"rbf\",\n",
    "#                         C=params[\"C\"],\n",
    "#                         gamma=params[\"gamma\"],\n",
    "#                         epsilon = 0.0, \n",
    "#                         shrinking=True,\n",
    "#                         cache_size=500,   \n",
    "#                         max_iter=-1\n",
    "#                     ),\n",
    "#                    transformer=QuantileTransformer(output_distribution=\"normal\",\n",
    "#                                         n_quantiles=min(1000, len(y_tr)))\n",
    "#                 )\n",
    "#             )\n",
    "\n",
    "#             pipe.fit(X_tr, y_tr)\n",
    "#             pred = pipe.predict(X_val)\n",
    "#             fold_maes.append(mean_absolute_error(y_val, pred))\n",
    "\n",
    "#         mean_mae = float(np.mean(fold_maes))\n",
    "#         return {\"loss\": mean_mae, \"status\": STATUS_OK}\n",
    "\n",
    "#     # 좁힌 탐색 공간 -> 넓은 범위로 돌렸을 때 찾은 값\n",
    "#     bestC, bestG = 3.2921101346679285, 0.39164577291716846\n",
    "\n",
    "#     space_refine = {\n",
    "#         \"C\":       hp.loguniform(\"C\",     np.log(max(1e-2, bestC/3)), np.log(bestC*3)),   # ~[1.04, 9.34]\n",
    "#         \"gamma\":   hp.loguniform(\"gamma\", np.log(max(1e-4, bestG/3)), np.log(bestG*4)),   # ~[0.167, 1.504]\n",
    "#     }\n",
    "#     trials = Trials()\n",
    "#     best = fmin(\n",
    "#         fn=objective,\n",
    "#         space=space_refine,\n",
    "#         algo=tpe.suggest,\n",
    "#         max_evals=max_evals,\n",
    "#         trials=trials,\n",
    "#         rstate=np.random.default_rng(random_state),\n",
    "#     )\n",
    "\n",
    "#     best_params = {\n",
    "#         \"C\":       float(best[\"C\"]),\n",
    "#         \"gamma\":   float(best[\"gamma\"]),\n",
    "#         \"kernel\":  \"rbf\"\n",
    "#     }\n",
    "\n",
    "#     best_mae = float(min(r[\"loss\"] for r in trials.results))\n",
    "\n",
    "#     return {\n",
    "#         \"best_params\": best_params,\n",
    "#         \"best_cv_mae\": best_mae,\n",
    "#         \"trials\": trials, \n",
    "#         \"best\": best\n",
    "#     }\n",
    "\n",
    "# summary = tune_svr_rbf_mae_cv(X,\n",
    "#                          y, \n",
    "#                           max_evals=80,  \n",
    "#                           n_splits=10) \n",
    "# print(\"CV MAE:\", summary[\"best_cv_mae\"])\n",
    "# print(\"Best params:\", summary[\"best_params\"])"
   ]
  },
  {
   "cell_type": "markdown",
   "id": "f00a66bc",
   "metadata": {},
   "source": [
    "+ 모델 학습"
   ]
  },
  {
   "cell_type": "code",
   "execution_count": 10,
   "id": "e5850f38",
   "metadata": {},
   "outputs": [
    {
     "name": "stdout",
     "output_type": "stream",
     "text": [
      "train mae: 3.3333333333333363e-06\n"
     ]
    }
   ],
   "source": [
    "Best_params =  {'C': 3.963530707518144, 'gamma': 1.0631617004546035}   # 위 방식으로 찾아진 최적 하이퍼 파라미터\n",
    "\n",
    "\n",
    "pipe = make_pipeline(\n",
    "    RobustScaler(),  # X 스케일\n",
    "    TransformedTargetRegressor( \n",
    "        regressor=SVR(\n",
    "            **Best_params,\n",
    "            kernel=\"rbf\",\n",
    "            epsilon = 0.0),\n",
    "         transformer=QuantileTransformer(output_distribution=\"normal\",\n",
    "                                        n_quantiles=min(1000, len(y)))\n",
    "    )\n",
    ")\n",
    "\n",
    "# 학습\n",
    "pipe.fit(X, y)\n",
    "\n",
    "# 학습 MAE 확인 \n",
    "print(\"train mae:\", mean_absolute_error(y, pipe.predict(X)))"
   ]
  },
  {
   "cell_type": "markdown",
   "id": "9f5bf720",
   "metadata": {},
   "source": [
    "# 추론"
   ]
  },
  {
   "cell_type": "code",
   "execution_count": 11,
   "id": "a0425dab",
   "metadata": {},
   "outputs": [
    {
     "data": {
      "text/plain": [
       "<Axes: >"
      ]
     },
     "execution_count": 11,
     "metadata": {},
     "output_type": "execute_result"
    },
    {
     "data": {
      "image/png": "[encoded data removed]",
      "text/plain": [
       "<Figure size 640x480 with 1 Axes>"
      ]
     },
     "metadata": {},
     "output_type": "display_data"
    }
   ],
   "source": [
    "# 테스트 예측 + 제출 저장\n",
    "submit = pd.read_csv(\"open/sample_submission.csv\")\n",
    "\n",
    "pred = pipe.predict(test_df)\n",
    "submit[\"stress_score\"] = pred\n",
    "submit.to_csv(\"final_submission.csv\", index=False)\n",
    "\n",
    "# 분포 시각화\n",
    "submit[\"stress_score\"].hist(bins = 100)"
   ]
  }
 ],
 "metadata": {
  "kernelspec": {
   "display_name": "Python 3",
   "language": "python",
   "name": "python3"
  },
  "language_info": {
   "codemirror_mode": {
    "name": "ipython",
    "version": 3
   },
   "file_extension": ".py",
   "mimetype": "text/x-python",
   "name": "python",
   "nbconvert_exporter": "python",
   "pygments_lexer": "ipython3",
   "version": "3.10.0"
  }
 },
 "nbformat": 4,
 "nbformat_minor": 5
}
